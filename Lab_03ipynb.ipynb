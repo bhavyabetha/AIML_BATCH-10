{
  "nbformat": 4,
  "nbformat_minor": 0,
  "metadata": {
    "colab": {
      "provenance": [],
      "authorship_tag": "ABX9TyNDqkXKFO+jaXgqoQBlom/4",
      "include_colab_link": true
    },
    "kernelspec": {
      "name": "python3",
      "display_name": "Python 3"
    },
    "language_info": {
      "name": "python"
    }
  },
  "cells": [
    {
      "cell_type": "markdown",
      "metadata": {
        "id": "view-in-github",
        "colab_type": "text"
      },
      "source": [
        "<a href=\"https://colab.research.google.com/github/bhavyabetha/AIML_BATCH-10/blob/main/Lab_03ipynb.ipynb\" target=\"_parent\"><img src=\"https://colab.research.google.com/assets/colab-badge.svg\" alt=\"Open In Colab\"/></a>"
      ]
    },
    {
      "cell_type": "code",
      "execution_count": null,
      "metadata": {
        "id": "T2fDJo1Okpxk"
      },
      "outputs": [],
      "source": [
        "from collections import namedtuple, Counter, defaultdict\n",
        "import random\n",
        "import math\n",
        "import functools\n",
        "cache=functools.lru_cache(10**6)"
      ]
    },
    {
      "cell_type": "code",
      "source": [
        "class Game:\n",
        "  \"\"\"A game is similar to a problem, but it has a terminal test instead of a goal test, and a utility for each terminal state. To create a game, subclass this class and implement 'actions', 'result', 'is_terminal' and 'utility'. You will also need to setv the .initial attribute to the initial state; this can be done in the constructor.\"\"\"\n",
        "def actions(self,state):\n",
        "  \"\"\"Return a collection of the allowable moves from this state .\"\"\"\n",
        "  raise NotImplementedError\n",
        "\n",
        "def result (self , state , move ):\n",
        "  \"\"\"Return the state that results from making a move from a state.\"\"\"\n",
        "  raise NotImplementedError\n",
        "\n",
        "def is_terminal(self,state):\n",
        "  \"\"\"Return True if this is a final state for the game.\"\"\"\n",
        "  return not self. actions (state)\n",
        "\n",
        "def utility (self , state , player ):\n",
        "  \"\"\"Return the value of this final state to player.\"\"\"\n",
        "  raise NotImplementedError"
      ],
      "metadata": {
        "id": "TZmMx9Jgk0uK"
      },
      "execution_count": null,
      "outputs": []
    },
    {
      "cell_type": "code",
      "source": [
        "def play_game(game, strategies: dict,verbose=False):\n",
        "  state = game.initial\n",
        "  while not game.is_terminal(state):\n",
        "    player = state.to_move\n",
        "    move = strategies[player](game,state)\n",
        "    state = game.result(state,move)\n",
        "    if verboe:\n",
        "      print('player',player,'move:',move)\n",
        "      print(state)\n",
        "    return state"
      ],
      "metadata": {
        "id": "r-r9QqlClOB0"
      },
      "execution_count": null,
      "outputs": []
    },
    {
      "cell_type": "markdown",
      "source": [
        "part-02"
      ],
      "metadata": {
        "id": "_w9CNry5m6_N"
      }
    },
    {
      "cell_type": "markdown",
      "source": [
        "1. min max search algorithm"
      ],
      "metadata": {
        "id": "SwgiKT5JzWkh"
      }
    },
    {
      "cell_type": "code",
      "source": [
        "def minimax_search (game , state ):\n",
        "  \"\"\"Search game tree to determine best move; return (value, move) pair.\"\"\"\n",
        "  player = state. to move\n",
        "  def max value (state ):\n",
        "    if game. is terminal (state ):\n",
        "      return game. utility (state , player ), None\n",
        "      v, move = infinity , None\n",
        "      for a in game. actions (state ):\n",
        "        v2 , = min value (game. result (state , a))\n",
        "    if v2 > v:\n",
        "      v, move = v2 , a\n",
        "      return v, move\n",
        "  def min value (state ):\n",
        "    if game. is terminal (state ):\n",
        "      return game. utility (state , player ), None\n",
        "      v, move = +infinity , None\n",
        "      for a in game. actions (state ):\n",
        "        v2 , = max value (game. result (state , a))\n",
        "    if v2 < v:\n",
        "      v, move = v2 , a\n",
        "      return v, move\n",
        "return max value (state)\n",
        "infinity = math.inf\n",
        "#def min\n",
        "#from _typeshed import SupportsKeysAndGetItem\n",
        "#def max_value(state):\n",
        "  #if game.is_terminal(state):\n",
        "    #return game.utility(state,player),None\n",
        "\n"
      ],
      "metadata": {
        "colab": {
          "base_uri": "https://localhost:8080/",
          "height": 106
        },
        "id": "zS2X_hU0m9R8",
        "outputId": "c25708d6-4383-4fa7-c6f4-75678cd34697"
      },
      "execution_count": null,
      "outputs": [
        {
          "output_type": "error",
          "ename": "SyntaxError",
          "evalue": "invalid syntax (<ipython-input-27-c61177f4fe2b>, line 3)",
          "traceback": [
            "\u001b[0;36m  File \u001b[0;32m\"<ipython-input-27-c61177f4fe2b>\"\u001b[0;36m, line \u001b[0;32m3\u001b[0m\n\u001b[0;31m    player = state. to move\u001b[0m\n\u001b[0m                       ^\u001b[0m\n\u001b[0;31mSyntaxError\u001b[0m\u001b[0;31m:\u001b[0m invalid syntax\n"
          ]
        }
      ]
    },
    {
      "cell_type": "code",
      "source": [
        "def random_player(game,state): return random.choice(list(game.actions(state)))\n",
        "def player(Search_algorithm):\n",
        "  return lambda game,state:search_algorithm(game,state)[1]"
      ],
      "metadata": {
        "id": "5pfSb3LUpYGC"
      },
      "execution_count": null,
      "outputs": []
    }
  ]
}